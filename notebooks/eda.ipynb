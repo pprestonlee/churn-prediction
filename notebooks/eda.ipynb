{
 "cells": [
  {
   "cell_type": "markdown",
   "id": "24e5e3eb",
   "metadata": {},
   "source": [
    "# Exploratory Data Analysis for Telco Customer Churn"
   ]
  },
  {
   "cell_type": "markdown",
   "id": "f3b6d5d7",
   "metadata": {},
   "source": [
    "## Imports + Libraries"
   ]
  },
  {
   "cell_type": "code",
   "execution_count": 194,
   "id": "31cc45f7",
   "metadata": {},
   "outputs": [],
   "source": [
    "import pandas as pd\n",
    "import numpy as np\n",
    "import matplotlib.pyplot as plt\n",
    "import seaborn as sns\n",
    "import os\n",
    "from pathlib import Path\n",
    "import sqlite3"
   ]
  },
  {
   "cell_type": "markdown",
   "id": "ec88e742",
   "metadata": {},
   "source": [
    "## Reading Datasets"
   ]
  },
  {
   "cell_type": "code",
   "execution_count": 195,
   "id": "76d7e378",
   "metadata": {},
   "outputs": [],
   "source": [
    "conn = sqlite3.connect('../data/churn.db')"
   ]
  },
  {
   "cell_type": "code",
   "execution_count": 196,
   "id": "a5b6013e",
   "metadata": {},
   "outputs": [
    {
     "data": {
      "text/html": [
       "<div>\n",
       "<style scoped>\n",
       "    .dataframe tbody tr th:only-of-type {\n",
       "        vertical-align: middle;\n",
       "    }\n",
       "\n",
       "    .dataframe tbody tr th {\n",
       "        vertical-align: top;\n",
       "    }\n",
       "\n",
       "    .dataframe thead th {\n",
       "        text-align: right;\n",
       "    }\n",
       "</style>\n",
       "<table border=\"1\" class=\"dataframe\">\n",
       "  <thead>\n",
       "    <tr style=\"text-align: right;\">\n",
       "      <th></th>\n",
       "      <th>customer_id</th>\n",
       "      <th>count</th>\n",
       "      <th>gender</th>\n",
       "      <th>age</th>\n",
       "      <th>under_30</th>\n",
       "      <th>senior_citizen</th>\n",
       "      <th>married</th>\n",
       "      <th>dependents</th>\n",
       "      <th>num_dependents</th>\n",
       "    </tr>\n",
       "  </thead>\n",
       "  <tbody>\n",
       "    <tr>\n",
       "      <th>0</th>\n",
       "      <td>8779-QRDMV</td>\n",
       "      <td>1</td>\n",
       "      <td>Male</td>\n",
       "      <td>78</td>\n",
       "      <td>No</td>\n",
       "      <td>Yes</td>\n",
       "      <td>No</td>\n",
       "      <td>No</td>\n",
       "      <td>0</td>\n",
       "    </tr>\n",
       "    <tr>\n",
       "      <th>1</th>\n",
       "      <td>7495-OOKFY</td>\n",
       "      <td>1</td>\n",
       "      <td>Female</td>\n",
       "      <td>74</td>\n",
       "      <td>No</td>\n",
       "      <td>Yes</td>\n",
       "      <td>Yes</td>\n",
       "      <td>Yes</td>\n",
       "      <td>1</td>\n",
       "    </tr>\n",
       "    <tr>\n",
       "      <th>2</th>\n",
       "      <td>1658-BYGOY</td>\n",
       "      <td>1</td>\n",
       "      <td>Male</td>\n",
       "      <td>71</td>\n",
       "      <td>No</td>\n",
       "      <td>Yes</td>\n",
       "      <td>No</td>\n",
       "      <td>Yes</td>\n",
       "      <td>3</td>\n",
       "    </tr>\n",
       "    <tr>\n",
       "      <th>3</th>\n",
       "      <td>4598-XLKNJ</td>\n",
       "      <td>1</td>\n",
       "      <td>Female</td>\n",
       "      <td>78</td>\n",
       "      <td>No</td>\n",
       "      <td>Yes</td>\n",
       "      <td>Yes</td>\n",
       "      <td>Yes</td>\n",
       "      <td>1</td>\n",
       "    </tr>\n",
       "    <tr>\n",
       "      <th>4</th>\n",
       "      <td>4846-WHAFZ</td>\n",
       "      <td>1</td>\n",
       "      <td>Female</td>\n",
       "      <td>80</td>\n",
       "      <td>No</td>\n",
       "      <td>Yes</td>\n",
       "      <td>Yes</td>\n",
       "      <td>Yes</td>\n",
       "      <td>1</td>\n",
       "    </tr>\n",
       "  </tbody>\n",
       "</table>\n",
       "</div>"
      ],
      "text/plain": [
       "  customer_id  count  gender  age under_30 senior_citizen married dependents  \\\n",
       "0  8779-QRDMV      1    Male   78       No            Yes      No         No   \n",
       "1  7495-OOKFY      1  Female   74       No            Yes     Yes        Yes   \n",
       "2  1658-BYGOY      1    Male   71       No            Yes      No        Yes   \n",
       "3  4598-XLKNJ      1  Female   78       No            Yes     Yes        Yes   \n",
       "4  4846-WHAFZ      1  Female   80       No            Yes     Yes        Yes   \n",
       "\n",
       "   num_dependents  \n",
       "0               0  \n",
       "1               1  \n",
       "2               3  \n",
       "3               1  \n",
       "4               1  "
      ]
     },
     "execution_count": 196,
     "metadata": {},
     "output_type": "execute_result"
    }
   ],
   "source": [
    "demographics = pd.read_sql_query('SELECT * FROM demographics;', conn)\n",
    "demographics.head()"
   ]
  },
  {
   "cell_type": "code",
   "execution_count": 197,
   "id": "d0545ab1",
   "metadata": {},
   "outputs": [
    {
     "data": {
      "text/html": [
       "<div>\n",
       "<style scoped>\n",
       "    .dataframe tbody tr th:only-of-type {\n",
       "        vertical-align: middle;\n",
       "    }\n",
       "\n",
       "    .dataframe tbody tr th {\n",
       "        vertical-align: top;\n",
       "    }\n",
       "\n",
       "    .dataframe thead th {\n",
       "        text-align: right;\n",
       "    }\n",
       "</style>\n",
       "<table border=\"1\" class=\"dataframe\">\n",
       "  <thead>\n",
       "    <tr style=\"text-align: right;\">\n",
       "      <th></th>\n",
       "      <th>location_id</th>\n",
       "      <th>customer_id</th>\n",
       "      <th>count</th>\n",
       "      <th>country</th>\n",
       "      <th>state</th>\n",
       "      <th>city</th>\n",
       "      <th>zip_code</th>\n",
       "      <th>lat_long</th>\n",
       "      <th>latitude</th>\n",
       "      <th>longitude</th>\n",
       "    </tr>\n",
       "  </thead>\n",
       "  <tbody>\n",
       "    <tr>\n",
       "      <th>0</th>\n",
       "      <td>OXCZEW7397</td>\n",
       "      <td>8779-QRDMV</td>\n",
       "      <td>1</td>\n",
       "      <td>United States</td>\n",
       "      <td>California</td>\n",
       "      <td>Los Angeles</td>\n",
       "      <td>90022</td>\n",
       "      <td>34.02381, -118.156582</td>\n",
       "      <td>34.023810</td>\n",
       "      <td>-118.156582</td>\n",
       "    </tr>\n",
       "    <tr>\n",
       "      <th>1</th>\n",
       "      <td>FCCECI8494</td>\n",
       "      <td>7495-OOKFY</td>\n",
       "      <td>1</td>\n",
       "      <td>United States</td>\n",
       "      <td>California</td>\n",
       "      <td>Los Angeles</td>\n",
       "      <td>90063</td>\n",
       "      <td>34.044271, -118.185237</td>\n",
       "      <td>34.044271</td>\n",
       "      <td>-118.185237</td>\n",
       "    </tr>\n",
       "    <tr>\n",
       "      <th>2</th>\n",
       "      <td>HEHUQY7254</td>\n",
       "      <td>1658-BYGOY</td>\n",
       "      <td>1</td>\n",
       "      <td>United States</td>\n",
       "      <td>California</td>\n",
       "      <td>Los Angeles</td>\n",
       "      <td>90065</td>\n",
       "      <td>34.108833, -118.229715</td>\n",
       "      <td>34.108833</td>\n",
       "      <td>-118.229715</td>\n",
       "    </tr>\n",
       "    <tr>\n",
       "      <th>3</th>\n",
       "      <td>WIUHRF2613</td>\n",
       "      <td>4598-XLKNJ</td>\n",
       "      <td>1</td>\n",
       "      <td>United States</td>\n",
       "      <td>California</td>\n",
       "      <td>Inglewood</td>\n",
       "      <td>90303</td>\n",
       "      <td>33.936291, -118.332639</td>\n",
       "      <td>33.936291</td>\n",
       "      <td>-118.332639</td>\n",
       "    </tr>\n",
       "    <tr>\n",
       "      <th>4</th>\n",
       "      <td>CFEZBF4415</td>\n",
       "      <td>4846-WHAFZ</td>\n",
       "      <td>1</td>\n",
       "      <td>United States</td>\n",
       "      <td>California</td>\n",
       "      <td>Whittier</td>\n",
       "      <td>90602</td>\n",
       "      <td>33.972119, -118.020188</td>\n",
       "      <td>33.972119</td>\n",
       "      <td>-118.020188</td>\n",
       "    </tr>\n",
       "  </tbody>\n",
       "</table>\n",
       "</div>"
      ],
      "text/plain": [
       "  location_id customer_id  count        country       state         city  \\\n",
       "0  OXCZEW7397  8779-QRDMV      1  United States  California  Los Angeles   \n",
       "1  FCCECI8494  7495-OOKFY      1  United States  California  Los Angeles   \n",
       "2  HEHUQY7254  1658-BYGOY      1  United States  California  Los Angeles   \n",
       "3  WIUHRF2613  4598-XLKNJ      1  United States  California    Inglewood   \n",
       "4  CFEZBF4415  4846-WHAFZ      1  United States  California     Whittier   \n",
       "\n",
       "  zip_code                lat_long   latitude   longitude  \n",
       "0    90022   34.02381, -118.156582  34.023810 -118.156582  \n",
       "1    90063  34.044271, -118.185237  34.044271 -118.185237  \n",
       "2    90065  34.108833, -118.229715  34.108833 -118.229715  \n",
       "3    90303  33.936291, -118.332639  33.936291 -118.332639  \n",
       "4    90602  33.972119, -118.020188  33.972119 -118.020188  "
      ]
     },
     "execution_count": 197,
     "metadata": {},
     "output_type": "execute_result"
    }
   ],
   "source": [
    "location = pd.read_sql_query('SELECT * FROM location;', conn)\n",
    "location.head()"
   ]
  },
  {
   "cell_type": "code",
   "execution_count": 198,
   "id": "620d3b9e",
   "metadata": {},
   "outputs": [
    {
     "data": {
      "text/html": [
       "<div>\n",
       "<style scoped>\n",
       "    .dataframe tbody tr th:only-of-type {\n",
       "        vertical-align: middle;\n",
       "    }\n",
       "\n",
       "    .dataframe tbody tr th {\n",
       "        vertical-align: top;\n",
       "    }\n",
       "\n",
       "    .dataframe thead th {\n",
       "        text-align: right;\n",
       "    }\n",
       "</style>\n",
       "<table border=\"1\" class=\"dataframe\">\n",
       "  <thead>\n",
       "    <tr style=\"text-align: right;\">\n",
       "      <th></th>\n",
       "      <th>population_id</th>\n",
       "      <th>zip_code</th>\n",
       "      <th>pop</th>\n",
       "    </tr>\n",
       "  </thead>\n",
       "  <tbody>\n",
       "    <tr>\n",
       "      <th>0</th>\n",
       "      <td>1</td>\n",
       "      <td>90001</td>\n",
       "      <td>54,492</td>\n",
       "    </tr>\n",
       "    <tr>\n",
       "      <th>1</th>\n",
       "      <td>2</td>\n",
       "      <td>90002</td>\n",
       "      <td>44,586</td>\n",
       "    </tr>\n",
       "    <tr>\n",
       "      <th>2</th>\n",
       "      <td>3</td>\n",
       "      <td>90003</td>\n",
       "      <td>58,198</td>\n",
       "    </tr>\n",
       "    <tr>\n",
       "      <th>3</th>\n",
       "      <td>4</td>\n",
       "      <td>90004</td>\n",
       "      <td>67,852</td>\n",
       "    </tr>\n",
       "    <tr>\n",
       "      <th>4</th>\n",
       "      <td>5</td>\n",
       "      <td>90005</td>\n",
       "      <td>43,019</td>\n",
       "    </tr>\n",
       "  </tbody>\n",
       "</table>\n",
       "</div>"
      ],
      "text/plain": [
       "   population_id zip_code     pop\n",
       "0              1    90001  54,492\n",
       "1              2    90002  44,586\n",
       "2              3    90003  58,198\n",
       "3              4    90004  67,852\n",
       "4              5    90005  43,019"
      ]
     },
     "execution_count": 198,
     "metadata": {},
     "output_type": "execute_result"
    }
   ],
   "source": [
    "population = pd.read_sql_query('SELECT * FROM population;', conn)\n",
    "population.head()"
   ]
  },
  {
   "cell_type": "code",
   "execution_count": 199,
   "id": "a8baef86",
   "metadata": {},
   "outputs": [
    {
     "data": {
      "text/html": [
       "<div>\n",
       "<style scoped>\n",
       "    .dataframe tbody tr th:only-of-type {\n",
       "        vertical-align: middle;\n",
       "    }\n",
       "\n",
       "    .dataframe tbody tr th {\n",
       "        vertical-align: top;\n",
       "    }\n",
       "\n",
       "    .dataframe thead th {\n",
       "        text-align: right;\n",
       "    }\n",
       "</style>\n",
       "<table border=\"1\" class=\"dataframe\">\n",
       "  <thead>\n",
       "    <tr style=\"text-align: right;\">\n",
       "      <th></th>\n",
       "      <th>service_id</th>\n",
       "      <th>customer_id</th>\n",
       "      <th>count</th>\n",
       "      <th>quarter</th>\n",
       "      <th>referred_friend</th>\n",
       "      <th>num_referrals</th>\n",
       "      <th>tenure_months</th>\n",
       "      <th>offer</th>\n",
       "      <th>phone_service</th>\n",
       "      <th>avg_monthly_long_distance_charge</th>\n",
       "      <th>...</th>\n",
       "      <th>unlimited_data</th>\n",
       "      <th>contract</th>\n",
       "      <th>paperless_billing</th>\n",
       "      <th>payment_method</th>\n",
       "      <th>monthly_charge</th>\n",
       "      <th>total_charges</th>\n",
       "      <th>total_refunds</th>\n",
       "      <th>total_extra_data_charges</th>\n",
       "      <th>total_long_distance_charges</th>\n",
       "      <th>total_revenue</th>\n",
       "    </tr>\n",
       "  </thead>\n",
       "  <tbody>\n",
       "    <tr>\n",
       "      <th>0</th>\n",
       "      <td>IJKDQVSWH3522</td>\n",
       "      <td>8779-QRDMV</td>\n",
       "      <td>1</td>\n",
       "      <td>Q3</td>\n",
       "      <td>No</td>\n",
       "      <td>0</td>\n",
       "      <td>1</td>\n",
       "      <td>None</td>\n",
       "      <td>No</td>\n",
       "      <td>0.00</td>\n",
       "      <td>...</td>\n",
       "      <td>No</td>\n",
       "      <td>Month-to-Month</td>\n",
       "      <td>Yes</td>\n",
       "      <td>Bank Withdrawal</td>\n",
       "      <td>39.65</td>\n",
       "      <td>39.65</td>\n",
       "      <td>0.00</td>\n",
       "      <td>20.0</td>\n",
       "      <td>0.00</td>\n",
       "      <td>59.65</td>\n",
       "    </tr>\n",
       "    <tr>\n",
       "      <th>1</th>\n",
       "      <td>BFKMZJAIE2285</td>\n",
       "      <td>7495-OOKFY</td>\n",
       "      <td>1</td>\n",
       "      <td>Q3</td>\n",
       "      <td>Yes</td>\n",
       "      <td>1</td>\n",
       "      <td>8</td>\n",
       "      <td>Offer E</td>\n",
       "      <td>Yes</td>\n",
       "      <td>48.85</td>\n",
       "      <td>...</td>\n",
       "      <td>Yes</td>\n",
       "      <td>Month-to-Month</td>\n",
       "      <td>Yes</td>\n",
       "      <td>Credit Card</td>\n",
       "      <td>80.65</td>\n",
       "      <td>633.30</td>\n",
       "      <td>0.00</td>\n",
       "      <td>0.0</td>\n",
       "      <td>390.80</td>\n",
       "      <td>1024.10</td>\n",
       "    </tr>\n",
       "    <tr>\n",
       "      <th>2</th>\n",
       "      <td>EIMVJQBMT7187</td>\n",
       "      <td>1658-BYGOY</td>\n",
       "      <td>1</td>\n",
       "      <td>Q3</td>\n",
       "      <td>No</td>\n",
       "      <td>0</td>\n",
       "      <td>18</td>\n",
       "      <td>Offer D</td>\n",
       "      <td>Yes</td>\n",
       "      <td>11.33</td>\n",
       "      <td>...</td>\n",
       "      <td>Yes</td>\n",
       "      <td>Month-to-Month</td>\n",
       "      <td>Yes</td>\n",
       "      <td>Bank Withdrawal</td>\n",
       "      <td>95.45</td>\n",
       "      <td>1752.55</td>\n",
       "      <td>45.61</td>\n",
       "      <td>0.0</td>\n",
       "      <td>203.94</td>\n",
       "      <td>1910.88</td>\n",
       "    </tr>\n",
       "    <tr>\n",
       "      <th>3</th>\n",
       "      <td>EROZQXDUU4979</td>\n",
       "      <td>4598-XLKNJ</td>\n",
       "      <td>1</td>\n",
       "      <td>Q3</td>\n",
       "      <td>Yes</td>\n",
       "      <td>1</td>\n",
       "      <td>25</td>\n",
       "      <td>Offer C</td>\n",
       "      <td>Yes</td>\n",
       "      <td>19.76</td>\n",
       "      <td>...</td>\n",
       "      <td>Yes</td>\n",
       "      <td>Month-to-Month</td>\n",
       "      <td>Yes</td>\n",
       "      <td>Bank Withdrawal</td>\n",
       "      <td>98.50</td>\n",
       "      <td>2514.50</td>\n",
       "      <td>13.43</td>\n",
       "      <td>0.0</td>\n",
       "      <td>494.00</td>\n",
       "      <td>2995.07</td>\n",
       "    </tr>\n",
       "    <tr>\n",
       "      <th>4</th>\n",
       "      <td>GEEYSJUHY6991</td>\n",
       "      <td>4846-WHAFZ</td>\n",
       "      <td>1</td>\n",
       "      <td>Q3</td>\n",
       "      <td>Yes</td>\n",
       "      <td>1</td>\n",
       "      <td>37</td>\n",
       "      <td>Offer C</td>\n",
       "      <td>Yes</td>\n",
       "      <td>6.33</td>\n",
       "      <td>...</td>\n",
       "      <td>Yes</td>\n",
       "      <td>Month-to-Month</td>\n",
       "      <td>Yes</td>\n",
       "      <td>Bank Withdrawal</td>\n",
       "      <td>76.50</td>\n",
       "      <td>2868.15</td>\n",
       "      <td>0.00</td>\n",
       "      <td>0.0</td>\n",
       "      <td>234.21</td>\n",
       "      <td>3102.36</td>\n",
       "    </tr>\n",
       "  </tbody>\n",
       "</table>\n",
       "<p>5 rows × 31 columns</p>\n",
       "</div>"
      ],
      "text/plain": [
       "      service_id customer_id  count quarter referred_friend  num_referrals  \\\n",
       "0  IJKDQVSWH3522  8779-QRDMV      1      Q3              No              0   \n",
       "1  BFKMZJAIE2285  7495-OOKFY      1      Q3             Yes              1   \n",
       "2  EIMVJQBMT7187  1658-BYGOY      1      Q3              No              0   \n",
       "3  EROZQXDUU4979  4598-XLKNJ      1      Q3             Yes              1   \n",
       "4  GEEYSJUHY6991  4846-WHAFZ      1      Q3             Yes              1   \n",
       "\n",
       "   tenure_months    offer phone_service  avg_monthly_long_distance_charge  \\\n",
       "0              1     None            No                              0.00   \n",
       "1              8  Offer E           Yes                             48.85   \n",
       "2             18  Offer D           Yes                             11.33   \n",
       "3             25  Offer C           Yes                             19.76   \n",
       "4             37  Offer C           Yes                              6.33   \n",
       "\n",
       "   ... unlimited_data        contract paperless_billing   payment_method  \\\n",
       "0  ...             No  Month-to-Month               Yes  Bank Withdrawal   \n",
       "1  ...            Yes  Month-to-Month               Yes      Credit Card   \n",
       "2  ...            Yes  Month-to-Month               Yes  Bank Withdrawal   \n",
       "3  ...            Yes  Month-to-Month               Yes  Bank Withdrawal   \n",
       "4  ...            Yes  Month-to-Month               Yes  Bank Withdrawal   \n",
       "\n",
       "  monthly_charge total_charges total_refunds total_extra_data_charges  \\\n",
       "0          39.65         39.65          0.00                     20.0   \n",
       "1          80.65        633.30          0.00                      0.0   \n",
       "2          95.45       1752.55         45.61                      0.0   \n",
       "3          98.50       2514.50         13.43                      0.0   \n",
       "4          76.50       2868.15          0.00                      0.0   \n",
       "\n",
       "  total_long_distance_charges total_revenue  \n",
       "0                        0.00         59.65  \n",
       "1                      390.80       1024.10  \n",
       "2                      203.94       1910.88  \n",
       "3                      494.00       2995.07  \n",
       "4                      234.21       3102.36  \n",
       "\n",
       "[5 rows x 31 columns]"
      ]
     },
     "execution_count": 199,
     "metadata": {},
     "output_type": "execute_result"
    }
   ],
   "source": [
    "services = pd.read_sql_query('SELECT * FROM services;', conn)\n",
    "services.head()"
   ]
  },
  {
   "cell_type": "code",
   "execution_count": 200,
   "id": "78e211f8",
   "metadata": {},
   "outputs": [
    {
     "data": {
      "text/html": [
       "<div>\n",
       "<style scoped>\n",
       "    .dataframe tbody tr th:only-of-type {\n",
       "        vertical-align: middle;\n",
       "    }\n",
       "\n",
       "    .dataframe tbody tr th {\n",
       "        vertical-align: top;\n",
       "    }\n",
       "\n",
       "    .dataframe thead th {\n",
       "        text-align: right;\n",
       "    }\n",
       "</style>\n",
       "<table border=\"1\" class=\"dataframe\">\n",
       "  <thead>\n",
       "    <tr style=\"text-align: right;\">\n",
       "      <th></th>\n",
       "      <th>status_id</th>\n",
       "      <th>customer_id</th>\n",
       "      <th>count</th>\n",
       "      <th>quarter</th>\n",
       "      <th>satisfaction_score</th>\n",
       "      <th>customer_status</th>\n",
       "      <th>churn_label</th>\n",
       "      <th>churn_value</th>\n",
       "      <th>churn_score</th>\n",
       "      <th>cltv</th>\n",
       "      <th>churn_category</th>\n",
       "      <th>churn_reason</th>\n",
       "    </tr>\n",
       "  </thead>\n",
       "  <tbody>\n",
       "    <tr>\n",
       "      <th>0</th>\n",
       "      <td>SWSORB1252</td>\n",
       "      <td>8779-QRDMV</td>\n",
       "      <td>1</td>\n",
       "      <td>Q3</td>\n",
       "      <td>3</td>\n",
       "      <td>Churned</td>\n",
       "      <td>Yes</td>\n",
       "      <td>1</td>\n",
       "      <td>91</td>\n",
       "      <td>5433</td>\n",
       "      <td>Competitor</td>\n",
       "      <td>Competitor offered more data</td>\n",
       "    </tr>\n",
       "    <tr>\n",
       "      <th>1</th>\n",
       "      <td>SNAEQA8572</td>\n",
       "      <td>7495-OOKFY</td>\n",
       "      <td>1</td>\n",
       "      <td>Q3</td>\n",
       "      <td>3</td>\n",
       "      <td>Churned</td>\n",
       "      <td>Yes</td>\n",
       "      <td>1</td>\n",
       "      <td>69</td>\n",
       "      <td>5302</td>\n",
       "      <td>Competitor</td>\n",
       "      <td>Competitor made better offer</td>\n",
       "    </tr>\n",
       "    <tr>\n",
       "      <th>2</th>\n",
       "      <td>LMBQNN3714</td>\n",
       "      <td>1658-BYGOY</td>\n",
       "      <td>1</td>\n",
       "      <td>Q3</td>\n",
       "      <td>2</td>\n",
       "      <td>Churned</td>\n",
       "      <td>Yes</td>\n",
       "      <td>1</td>\n",
       "      <td>81</td>\n",
       "      <td>3179</td>\n",
       "      <td>Competitor</td>\n",
       "      <td>Competitor made better offer</td>\n",
       "    </tr>\n",
       "    <tr>\n",
       "      <th>3</th>\n",
       "      <td>VRZYZI9978</td>\n",
       "      <td>4598-XLKNJ</td>\n",
       "      <td>1</td>\n",
       "      <td>Q3</td>\n",
       "      <td>2</td>\n",
       "      <td>Churned</td>\n",
       "      <td>Yes</td>\n",
       "      <td>1</td>\n",
       "      <td>88</td>\n",
       "      <td>5337</td>\n",
       "      <td>Dissatisfaction</td>\n",
       "      <td>Limited range of services</td>\n",
       "    </tr>\n",
       "    <tr>\n",
       "      <th>4</th>\n",
       "      <td>FDNAKX1688</td>\n",
       "      <td>4846-WHAFZ</td>\n",
       "      <td>1</td>\n",
       "      <td>Q3</td>\n",
       "      <td>2</td>\n",
       "      <td>Churned</td>\n",
       "      <td>Yes</td>\n",
       "      <td>1</td>\n",
       "      <td>67</td>\n",
       "      <td>2793</td>\n",
       "      <td>Price</td>\n",
       "      <td>Extra data charges</td>\n",
       "    </tr>\n",
       "  </tbody>\n",
       "</table>\n",
       "</div>"
      ],
      "text/plain": [
       "    status_id customer_id  count quarter  satisfaction_score customer_status  \\\n",
       "0  SWSORB1252  8779-QRDMV      1      Q3                   3         Churned   \n",
       "1  SNAEQA8572  7495-OOKFY      1      Q3                   3         Churned   \n",
       "2  LMBQNN3714  1658-BYGOY      1      Q3                   2         Churned   \n",
       "3  VRZYZI9978  4598-XLKNJ      1      Q3                   2         Churned   \n",
       "4  FDNAKX1688  4846-WHAFZ      1      Q3                   2         Churned   \n",
       "\n",
       "  churn_label  churn_value  churn_score  cltv   churn_category  \\\n",
       "0         Yes            1           91  5433       Competitor   \n",
       "1         Yes            1           69  5302       Competitor   \n",
       "2         Yes            1           81  3179       Competitor   \n",
       "3         Yes            1           88  5337  Dissatisfaction   \n",
       "4         Yes            1           67  2793            Price   \n",
       "\n",
       "                   churn_reason  \n",
       "0  Competitor offered more data  \n",
       "1  Competitor made better offer  \n",
       "2  Competitor made better offer  \n",
       "3     Limited range of services  \n",
       "4            Extra data charges  "
      ]
     },
     "execution_count": 200,
     "metadata": {},
     "output_type": "execute_result"
    }
   ],
   "source": [
    "status = pd.read_sql_query('SELECT * FROM status;', conn)\n",
    "status.head()"
   ]
  },
  {
   "cell_type": "markdown",
   "id": "1f682c84",
   "metadata": {},
   "source": [
    "## Initial Data Exploration, Sanity Checks"
   ]
  },
  {
   "cell_type": "code",
   "execution_count": 201,
   "id": "9354c282",
   "metadata": {},
   "outputs": [
    {
     "data": {
      "text/plain": [
       "((7043, 9), (7043, 10), (1671, 3), (7043, 31), (7043, 12))"
      ]
     },
     "execution_count": 201,
     "metadata": {},
     "output_type": "execute_result"
    }
   ],
   "source": [
    "demographics.shape, location.shape, population.shape, services.shape, status.shape"
   ]
  },
  {
   "cell_type": "markdown",
   "id": "8b8c370a",
   "metadata": {},
   "source": [
    "Each dataset has 7043 rows, with the exception of the population lookup table (which tracks since population does not have a customer_id foreign key). "
   ]
  },
  {
   "cell_type": "code",
   "execution_count": 202,
   "id": "584bba91",
   "metadata": {},
   "outputs": [
    {
     "name": "stdout",
     "output_type": "stream",
     "text": [
      "<class 'pandas.core.frame.DataFrame'>\n",
      "RangeIndex: 7043 entries, 0 to 7042\n",
      "Data columns (total 9 columns):\n",
      " #   Column          Non-Null Count  Dtype \n",
      "---  ------          --------------  ----- \n",
      " 0   customer_id     7043 non-null   object\n",
      " 1   count           7043 non-null   int64 \n",
      " 2   gender          7043 non-null   object\n",
      " 3   age             7043 non-null   int64 \n",
      " 4   under_30        7043 non-null   object\n",
      " 5   senior_citizen  7043 non-null   object\n",
      " 6   married         7043 non-null   object\n",
      " 7   dependents      7043 non-null   object\n",
      " 8   num_dependents  7043 non-null   int64 \n",
      "dtypes: int64(3), object(6)\n",
      "memory usage: 495.3+ KB\n"
     ]
    }
   ],
   "source": [
    "demographics.info()"
   ]
  },
  {
   "cell_type": "code",
   "execution_count": 203,
   "id": "f3c3aedb",
   "metadata": {},
   "outputs": [
    {
     "name": "stdout",
     "output_type": "stream",
     "text": [
      "<class 'pandas.core.frame.DataFrame'>\n",
      "RangeIndex: 7043 entries, 0 to 7042\n",
      "Data columns (total 10 columns):\n",
      " #   Column       Non-Null Count  Dtype  \n",
      "---  ------       --------------  -----  \n",
      " 0   location_id  7043 non-null   object \n",
      " 1   customer_id  7043 non-null   object \n",
      " 2   count        7043 non-null   int64  \n",
      " 3   country      7043 non-null   object \n",
      " 4   state        7043 non-null   object \n",
      " 5   city         7043 non-null   object \n",
      " 6   zip_code     7043 non-null   object \n",
      " 7   lat_long     7043 non-null   object \n",
      " 8   latitude     7043 non-null   float64\n",
      " 9   longitude    7043 non-null   float64\n",
      "dtypes: float64(2), int64(1), object(7)\n",
      "memory usage: 550.4+ KB\n"
     ]
    }
   ],
   "source": [
    "location.info()"
   ]
  },
  {
   "cell_type": "code",
   "execution_count": 204,
   "id": "e581b4a5",
   "metadata": {},
   "outputs": [
    {
     "name": "stdout",
     "output_type": "stream",
     "text": [
      "<class 'pandas.core.frame.DataFrame'>\n",
      "RangeIndex: 1671 entries, 0 to 1670\n",
      "Data columns (total 3 columns):\n",
      " #   Column         Non-Null Count  Dtype \n",
      "---  ------         --------------  ----- \n",
      " 0   population_id  1671 non-null   int64 \n",
      " 1   zip_code       1671 non-null   object\n",
      " 2   pop            1671 non-null   object\n",
      "dtypes: int64(1), object(2)\n",
      "memory usage: 39.3+ KB\n"
     ]
    }
   ],
   "source": [
    "population.info()"
   ]
  },
  {
   "cell_type": "code",
   "execution_count": 205,
   "id": "eb1b30a9",
   "metadata": {},
   "outputs": [
    {
     "name": "stdout",
     "output_type": "stream",
     "text": [
      "<class 'pandas.core.frame.DataFrame'>\n",
      "RangeIndex: 7043 entries, 0 to 7042\n",
      "Data columns (total 31 columns):\n",
      " #   Column                            Non-Null Count  Dtype  \n",
      "---  ------                            --------------  -----  \n",
      " 0   service_id                        7043 non-null   object \n",
      " 1   customer_id                       7043 non-null   object \n",
      " 2   count                             7043 non-null   int64  \n",
      " 3   quarter                           7043 non-null   object \n",
      " 4   referred_friend                   7043 non-null   object \n",
      " 5   num_referrals                     7043 non-null   int64  \n",
      " 6   tenure_months                     7043 non-null   int64  \n",
      " 7   offer                             3166 non-null   object \n",
      " 8   phone_service                     7043 non-null   object \n",
      " 9   avg_monthly_long_distance_charge  7043 non-null   float64\n",
      " 10  multiple_lines                    7043 non-null   object \n",
      " 11  internet_service                  7043 non-null   object \n",
      " 12  internet_type                     5517 non-null   object \n",
      " 13  avg_monthly_gb_download           7043 non-null   float64\n",
      " 14  online_security                   7043 non-null   object \n",
      " 15  online_backup                     7043 non-null   object \n",
      " 16  device_protection                 7043 non-null   object \n",
      " 17  premium_tech_support              7043 non-null   object \n",
      " 18  streaming_tv                      7043 non-null   object \n",
      " 19  streaming_movies                  7043 non-null   object \n",
      " 20  streaming_music                   7043 non-null   object \n",
      " 21  unlimited_data                    7043 non-null   object \n",
      " 22  contract                          7043 non-null   object \n",
      " 23  paperless_billing                 7043 non-null   object \n",
      " 24  payment_method                    7043 non-null   object \n",
      " 25  monthly_charge                    7043 non-null   float64\n",
      " 26  total_charges                     7043 non-null   float64\n",
      " 27  total_refunds                     7043 non-null   float64\n",
      " 28  total_extra_data_charges          7043 non-null   float64\n",
      " 29  total_long_distance_charges       7043 non-null   float64\n",
      " 30  total_revenue                     7043 non-null   float64\n",
      "dtypes: float64(8), int64(3), object(20)\n",
      "memory usage: 1.7+ MB\n"
     ]
    }
   ],
   "source": [
    "services.info()"
   ]
  },
  {
   "cell_type": "markdown",
   "id": "49ed70b6",
   "metadata": {},
   "source": [
    "'offer' and 'internet_type' columns contain null values, needs investigation"
   ]
  },
  {
   "cell_type": "code",
   "execution_count": 206,
   "id": "acef86d3",
   "metadata": {},
   "outputs": [
    {
     "name": "stderr",
     "output_type": "stream",
     "text": [
      "/var/folders/zj/d482_qjd6szf0_0dg2klzvq80000gn/T/ipykernel_38753/971186895.py:2: FutureWarning: A value is trying to be set on a copy of a DataFrame or Series through chained assignment using an inplace method.\n",
      "The behavior will change in pandas 3.0. This inplace method will never work because the intermediate object on which we are setting values always behaves as a copy.\n",
      "\n",
      "For example, when doing 'df[col].method(value, inplace=True)', try using 'df.method({col: value}, inplace=True)' or df[col] = df[col].method(value) instead, to perform the operation inplace on the original object.\n",
      "\n",
      "\n",
      "  services_copy['offer'].fillna('No Offer', inplace=True)\n"
     ]
    },
    {
     "data": {
      "text/plain": [
       "<Axes: xlabel='offer'>"
      ]
     },
     "execution_count": 206,
     "metadata": {},
     "output_type": "execute_result"
    },
    {
     "data": {
      "image/png": "[encoded data removed]",
      "text/plain": [
       "<Figure size 640x480 with 1 Axes>"
      ]
     },
     "metadata": {},
     "output_type": "display_data"
    }
   ],
   "source": [
    "services_copy = services.copy()\n",
    "services_copy['offer'].fillna('No Offer', inplace=True)\n",
    "services_copy['offer'].value_counts().plot(kind='bar')"
   ]
  },
  {
   "cell_type": "markdown",
   "id": "2a6e6428",
   "metadata": {},
   "source": [
    "Treating None values as \"no offer received,\" there exists a significant class imbalance between customer's not receiving an offer vs. receiving one of the A-E offers. Will have to dig into the relationship between \"offer\" and customer churn"
   ]
  },
  {
   "cell_type": "code",
   "execution_count": 207,
   "id": "6aab663f",
   "metadata": {},
   "outputs": [
    {
     "data": {
      "text/plain": [
       "internet_service\n",
       "Yes    5517\n",
       "No     1526\n",
       "Name: count, dtype: int64"
      ]
     },
     "execution_count": 207,
     "metadata": {},
     "output_type": "execute_result"
    }
   ],
   "source": [
    "# Now investigating 'internet_type' and 'internet_service' features\n",
    "services['internet_service'].value_counts()"
   ]
  },
  {
   "cell_type": "code",
   "execution_count": 208,
   "id": "49fc4a09",
   "metadata": {},
   "outputs": [
    {
     "data": {
      "text/plain": [
       "np.int64(5517)"
      ]
     },
     "execution_count": 208,
     "metadata": {},
     "output_type": "execute_result"
    }
   ],
   "source": [
    "services['internet_type'].value_counts().sum()"
   ]
  },
  {
   "cell_type": "code",
   "execution_count": 209,
   "id": "d504d78f",
   "metadata": {},
   "outputs": [
    {
     "name": "stderr",
     "output_type": "stream",
     "text": [
      "/var/folders/zj/d482_qjd6szf0_0dg2klzvq80000gn/T/ipykernel_38753/3549508147.py:1: FutureWarning: A value is trying to be set on a copy of a DataFrame or Series through chained assignment using an inplace method.\n",
      "The behavior will change in pandas 3.0. This inplace method will never work because the intermediate object on which we are setting values always behaves as a copy.\n",
      "\n",
      "For example, when doing 'df[col].method(value, inplace=True)', try using 'df.method({col: value}, inplace=True)' or df[col] = df[col].method(value) instead, to perform the operation inplace on the original object.\n",
      "\n",
      "\n",
      "  services_copy['internet_type'].fillna('No Internet', inplace=True)\n"
     ]
    },
    {
     "data": {
      "text/plain": [
       "<Axes: xlabel='internet_type'>"
      ]
     },
     "execution_count": 209,
     "metadata": {},
     "output_type": "execute_result"
    },
    {
     "data": {
      "image/png": "[encoded data removed]",
      "text/plain": [
       "<Figure size 640x480 with 1 Axes>"
      ]
     },
     "metadata": {},
     "output_type": "display_data"
    }
   ],
   "source": [
    "services_copy['internet_type'].fillna('No Internet', inplace=True)\n",
    "services_copy['internet_type'].value_counts().plot(kind='bar')"
   ]
  },
  {
   "cell_type": "code",
   "execution_count": 210,
   "id": "e8bcd262",
   "metadata": {},
   "outputs": [
    {
     "data": {
      "text/plain": [
       "internet_service  internet_type\n",
       "No                No Internet      1526\n",
       "Yes               Fiber Optic      3035\n",
       "                  DSL              1652\n",
       "                  Cable             830\n",
       "Name: count, dtype: int64"
      ]
     },
     "execution_count": 210,
     "metadata": {},
     "output_type": "execute_result"
    }
   ],
   "source": [
    "services_copy[['internet_service', 'internet_type']].groupby('internet_service').value_counts()"
   ]
  },
  {
   "cell_type": "markdown",
   "id": "fe919e30",
   "metadata": {},
   "source": [
    "It appears \"No\" responses in the 'internet_service' column account for the \"None\" values in the 'internet_type' column, will treat \"None\" values as \"No Internet\""
   ]
  },
  {
   "cell_type": "code",
   "execution_count": 211,
   "id": "5811601f",
   "metadata": {},
   "outputs": [
    {
     "name": "stdout",
     "output_type": "stream",
     "text": [
      "<class 'pandas.core.frame.DataFrame'>\n",
      "RangeIndex: 7043 entries, 0 to 7042\n",
      "Data columns (total 12 columns):\n",
      " #   Column              Non-Null Count  Dtype \n",
      "---  ------              --------------  ----- \n",
      " 0   status_id           7043 non-null   object\n",
      " 1   customer_id         7043 non-null   object\n",
      " 2   count               7043 non-null   int64 \n",
      " 3   quarter             7043 non-null   object\n",
      " 4   satisfaction_score  7043 non-null   int64 \n",
      " 5   customer_status     7043 non-null   object\n",
      " 6   churn_label         7043 non-null   object\n",
      " 7   churn_value         7043 non-null   int64 \n",
      " 8   churn_score         7043 non-null   int64 \n",
      " 9   cltv                7043 non-null   int64 \n",
      " 10  churn_category      1869 non-null   object\n",
      " 11  churn_reason        1869 non-null   object\n",
      "dtypes: int64(5), object(7)\n",
      "memory usage: 660.4+ KB\n"
     ]
    }
   ],
   "source": [
    "status.info()"
   ]
  },
  {
   "cell_type": "markdown",
   "id": "99b29af5",
   "metadata": {},
   "source": [
    "'churn_category' and 'churn_reason' have null values, needs investigation"
   ]
  },
  {
   "cell_type": "code",
   "execution_count": 212,
   "id": "92cdcb00",
   "metadata": {},
   "outputs": [
    {
     "data": {
      "text/plain": [
       "churn_category\n",
       "Competitor         841\n",
       "Attitude           314\n",
       "Dissatisfaction    303\n",
       "Price              211\n",
       "Other              200\n",
       "Name: count, dtype: int64"
      ]
     },
     "execution_count": 212,
     "metadata": {},
     "output_type": "execute_result"
    }
   ],
   "source": [
    "status['churn_category'].value_counts()"
   ]
  },
  {
   "cell_type": "code",
   "execution_count": 213,
   "id": "0eacae61",
   "metadata": {},
   "outputs": [
    {
     "data": {
      "text/plain": [
       "churn_reason\n",
       "Competitor had better devices                313\n",
       "Competitor made better offer                 311\n",
       "Attitude of support person                   220\n",
       "Don't know                                   130\n",
       "Competitor offered more data                 117\n",
       "Competitor offered higher download speeds    100\n",
       "Attitude of service provider                  94\n",
       "Price too high                                78\n",
       "Product dissatisfaction                       77\n",
       "Network reliability                           72\n",
       "Long distance charges                         64\n",
       "Service dissatisfaction                       63\n",
       "Moved                                         46\n",
       "Extra data charges                            39\n",
       "Limited range of services                     37\n",
       "Poor expertise of online support              31\n",
       "Lack of affordable download/upload speed      30\n",
       "Lack of self-service on Website               29\n",
       "Poor expertise of phone support               12\n",
       "Deceased                                       6\n",
       "Name: count, dtype: int64"
      ]
     },
     "execution_count": 213,
     "metadata": {},
     "output_type": "execute_result"
    }
   ],
   "source": [
    "status['churn_reason'].value_counts()"
   ]
  },
  {
   "cell_type": "code",
   "execution_count": 214,
   "id": "1a6a6e10",
   "metadata": {},
   "outputs": [
    {
     "name": "stderr",
     "output_type": "stream",
     "text": [
      "/var/folders/zj/d482_qjd6szf0_0dg2klzvq80000gn/T/ipykernel_38753/2051236377.py:2: FutureWarning: A value is trying to be set on a copy of a DataFrame or Series through chained assignment using an inplace method.\n",
      "The behavior will change in pandas 3.0. This inplace method will never work because the intermediate object on which we are setting values always behaves as a copy.\n",
      "\n",
      "For example, when doing 'df[col].method(value, inplace=True)', try using 'df.method({col: value}, inplace=True)' or df[col] = df[col].method(value) instead, to perform the operation inplace on the original object.\n",
      "\n",
      "\n",
      "  status_copy['churn_category'].fillna('No Churn', inplace=True)\n"
     ]
    },
    {
     "data": {
      "text/plain": [
       "churn_value  churn_category \n",
       "0            No Churn           5174\n",
       "1            Competitor          841\n",
       "             Attitude            314\n",
       "             Dissatisfaction     303\n",
       "             Price               211\n",
       "             Other               200\n",
       "Name: count, dtype: int64"
      ]
     },
     "execution_count": 214,
     "metadata": {},
     "output_type": "execute_result"
    }
   ],
   "source": [
    "status_copy = status.copy()\n",
    "status_copy['churn_category'].fillna('No Churn', inplace=True)\n",
    "status_copy[['churn_value', 'churn_category']].groupby('churn_value').value_counts()"
   ]
  },
  {
   "cell_type": "markdown",
   "id": "36f8a59c",
   "metadata": {},
   "source": [
    "It appears \"0\" values in the 'churn_value' column account for the \"None\" values in the 'churn_category' column, will treat \"None\" values as \"No Churn\""
   ]
  },
  {
   "cell_type": "code",
   "execution_count": 215,
   "id": "9e90be6f",
   "metadata": {},
   "outputs": [
    {
     "name": "stderr",
     "output_type": "stream",
     "text": [
      "/var/folders/zj/d482_qjd6szf0_0dg2klzvq80000gn/T/ipykernel_38753/529997248.py:1: FutureWarning: A value is trying to be set on a copy of a DataFrame or Series through chained assignment using an inplace method.\n",
      "The behavior will change in pandas 3.0. This inplace method will never work because the intermediate object on which we are setting values always behaves as a copy.\n",
      "\n",
      "For example, when doing 'df[col].method(value, inplace=True)', try using 'df.method({col: value}, inplace=True)' or df[col] = df[col].method(value) instead, to perform the operation inplace on the original object.\n",
      "\n",
      "\n",
      "  status_copy['churn_reason'].fillna('No Churn', inplace=True)\n"
     ]
    },
    {
     "data": {
      "text/plain": [
       "churn_category   churn_reason                             \n",
       "Attitude         Attitude of support person                    220\n",
       "                 Attitude of service provider                   94\n",
       "Competitor       Competitor had better devices                 313\n",
       "                 Competitor made better offer                  311\n",
       "                 Competitor offered more data                  117\n",
       "                 Competitor offered higher download speeds     100\n",
       "Dissatisfaction  Product dissatisfaction                        77\n",
       "                 Network reliability                            72\n",
       "                 Service dissatisfaction                        63\n",
       "                 Limited range of services                      37\n",
       "                 Lack of self-service on Website                29\n",
       "                 Poor expertise of online support               13\n",
       "                 Poor expertise of phone support                12\n",
       "No Churn         No Churn                                     5174\n",
       "Other            Don't know                                    130\n",
       "                 Moved                                          46\n",
       "                 Poor expertise of online support               18\n",
       "                 Deceased                                        6\n",
       "Price            Price too high                                 78\n",
       "                 Long distance charges                          64\n",
       "                 Extra data charges                             39\n",
       "                 Lack of affordable download/upload speed       30\n",
       "Name: count, dtype: int64"
      ]
     },
     "execution_count": 215,
     "metadata": {},
     "output_type": "execute_result"
    }
   ],
   "source": [
    "status_copy['churn_reason'].fillna('No Churn', inplace=True)\n",
    "status_copy[['churn_category', 'churn_reason']].groupby('churn_category').value_counts()"
   ]
  },
  {
   "cell_type": "markdown",
   "id": "80fc3268",
   "metadata": {},
   "source": [
    "Similarly, the \"None\" values in 'churn_reason' column are all accounted for by the lack of 'churn_category' and 'churn_value' columns, so we will treat these values as \"No Churn\""
   ]
  },
  {
   "cell_type": "code",
   "execution_count": 216,
   "id": "901505d4",
   "metadata": {},
   "outputs": [
    {
     "data": {
      "text/plain": [
       "customer_id       0\n",
       "count             0\n",
       "gender            0\n",
       "age               0\n",
       "under_30          0\n",
       "senior_citizen    0\n",
       "married           0\n",
       "dependents        0\n",
       "num_dependents    0\n",
       "dtype: int64"
      ]
     },
     "execution_count": 216,
     "metadata": {},
     "output_type": "execute_result"
    }
   ],
   "source": [
    "demographics.isna().sum()"
   ]
  },
  {
   "cell_type": "code",
   "execution_count": 217,
   "id": "30febc58",
   "metadata": {},
   "outputs": [
    {
     "data": {
      "text/plain": [
       "location_id    0\n",
       "customer_id    0\n",
       "count          0\n",
       "country        0\n",
       "state          0\n",
       "city           0\n",
       "zip_code       0\n",
       "lat_long       0\n",
       "latitude       0\n",
       "longitude      0\n",
       "dtype: int64"
      ]
     },
     "execution_count": 217,
     "metadata": {},
     "output_type": "execute_result"
    }
   ],
   "source": [
    "location.isna().sum()"
   ]
  },
  {
   "cell_type": "code",
   "execution_count": 218,
   "id": "b71410a9",
   "metadata": {},
   "outputs": [
    {
     "data": {
      "text/plain": [
       "population_id    0\n",
       "zip_code         0\n",
       "pop              0\n",
       "dtype: int64"
      ]
     },
     "execution_count": 218,
     "metadata": {},
     "output_type": "execute_result"
    }
   ],
   "source": [
    "population.isna().sum()"
   ]
  },
  {
   "cell_type": "code",
   "execution_count": 219,
   "id": "b06a8b11",
   "metadata": {},
   "outputs": [
    {
     "data": {
      "text/plain": [
       "service_id                          0\n",
       "customer_id                         0\n",
       "count                               0\n",
       "quarter                             0\n",
       "referred_friend                     0\n",
       "num_referrals                       0\n",
       "tenure_months                       0\n",
       "offer                               0\n",
       "phone_service                       0\n",
       "avg_monthly_long_distance_charge    0\n",
       "multiple_lines                      0\n",
       "internet_service                    0\n",
       "internet_type                       0\n",
       "avg_monthly_gb_download             0\n",
       "online_security                     0\n",
       "online_backup                       0\n",
       "device_protection                   0\n",
       "premium_tech_support                0\n",
       "streaming_tv                        0\n",
       "streaming_movies                    0\n",
       "streaming_music                     0\n",
       "unlimited_data                      0\n",
       "contract                            0\n",
       "paperless_billing                   0\n",
       "payment_method                      0\n",
       "monthly_charge                      0\n",
       "total_charges                       0\n",
       "total_refunds                       0\n",
       "total_extra_data_charges            0\n",
       "total_long_distance_charges         0\n",
       "total_revenue                       0\n",
       "dtype: int64"
      ]
     },
     "execution_count": 219,
     "metadata": {},
     "output_type": "execute_result"
    }
   ],
   "source": [
    "services_copy.isna().sum()"
   ]
  },
  {
   "cell_type": "code",
   "execution_count": 220,
   "id": "0e413c4a",
   "metadata": {},
   "outputs": [
    {
     "data": {
      "text/plain": [
       "status_id             0\n",
       "customer_id           0\n",
       "count                 0\n",
       "quarter               0\n",
       "satisfaction_score    0\n",
       "customer_status       0\n",
       "churn_label           0\n",
       "churn_value           0\n",
       "churn_score           0\n",
       "cltv                  0\n",
       "churn_category        0\n",
       "churn_reason          0\n",
       "dtype: int64"
      ]
     },
     "execution_count": 220,
     "metadata": {},
     "output_type": "execute_result"
    }
   ],
   "source": [
    "status_copy.isna().sum()"
   ]
  },
  {
   "cell_type": "markdown",
   "id": "8538de8e",
   "metadata": {},
   "source": [
    "Now we have no null values in the dataset, joining datasets on 'customer_id' column"
   ]
  },
  {
   "cell_type": "code",
   "execution_count": 221,
   "id": "2f66ec3b",
   "metadata": {},
   "outputs": [
    {
     "name": "stdout",
     "output_type": "stream",
     "text": [
      "0 'count': count\n",
      "1    7043\n",
      "Name: count, dtype: int64\n",
      "\n",
      "1 'count': count\n",
      "1    7043\n",
      "Name: count, dtype: int64\n",
      "\n",
      "3 'quarter': quarter\n",
      "Q3    7043\n",
      "Name: count, dtype: int64\n",
      "3 'count': count\n",
      "1    7043\n",
      "Name: count, dtype: int64\n",
      "\n",
      "4 'quarter': quarter\n",
      "Q3    7043\n",
      "Name: count, dtype: int64\n",
      "4 'count': count\n",
      "1    7043\n",
      "Name: count, dtype: int64\n",
      "\n"
     ]
    }
   ],
   "source": [
    "# Remove 'quarter' and 'count' columns from applicable tables\n",
    "datasets = [demographics, location, population, services_copy, status_copy]\n",
    "for i in range(len(datasets)):\n",
    "    if 'quarter' in datasets[i].columns:\n",
    "        print(f\"{i} 'quarter': {datasets[i]['quarter'].value_counts()}\")\n",
    "    if 'count' in datasets[i].columns:\n",
    "        print(f\"{i} 'count': {datasets[i]['count'].value_counts()}\\n\")"
   ]
  },
  {
   "cell_type": "code",
   "execution_count": 222,
   "id": "0be8e8c2",
   "metadata": {},
   "outputs": [],
   "source": [
    "# Remove 'quarter' and 'count' columns from applicable tables\n",
    "demographics_copy = demographics.copy()\n",
    "location_copy = location.copy()\n",
    "population_copy = population.copy()\n",
    "\n",
    "datasets = [demographics_copy, location_copy, population_copy, services_copy, status_copy]\n",
    "for i in range(len(datasets)):\n",
    "    if 'quarter' in datasets[i].columns:\n",
    "        datasets[i].drop(columns=['quarter'], inplace=True)\n",
    "    if 'count' in datasets[i].columns:\n",
    "        datasets[i].drop(columns=['count'], inplace=True)"
   ]
  },
  {
   "cell_type": "markdown",
   "id": "ff015ecf",
   "metadata": {},
   "source": [
    "Removed 'quarter' and 'count' columns from dataset because 'quarter' is always \"Q3\" and 'count' is always 1"
   ]
  },
  {
   "cell_type": "code",
   "execution_count": 225,
   "id": "f85d506b",
   "metadata": {},
   "outputs": [
    {
     "name": "stdout",
     "output_type": "stream",
     "text": [
      "<class 'pandas.core.frame.DataFrame'>\n",
      "RangeIndex: 7043 entries, 0 to 7042\n",
      "Data columns (total 53 columns):\n",
      " #   Column                            Non-Null Count  Dtype  \n",
      "---  ------                            --------------  -----  \n",
      " 0   customer_id                       7043 non-null   object \n",
      " 1   gender                            7043 non-null   object \n",
      " 2   age                               7043 non-null   int64  \n",
      " 3   under_30                          7043 non-null   object \n",
      " 4   senior_citizen                    7043 non-null   object \n",
      " 5   married                           7043 non-null   object \n",
      " 6   dependents                        7043 non-null   object \n",
      " 7   num_dependents                    7043 non-null   int64  \n",
      " 8   location_id                       7043 non-null   object \n",
      " 9   country                           7043 non-null   object \n",
      " 10  state                             7043 non-null   object \n",
      " 11  city                              7043 non-null   object \n",
      " 12  zip_code                          7043 non-null   object \n",
      " 13  lat_long                          7043 non-null   object \n",
      " 14  latitude                          7043 non-null   float64\n",
      " 15  longitude                         7043 non-null   float64\n",
      " 16  service_id                        7043 non-null   object \n",
      " 17  referred_friend                   7043 non-null   object \n",
      " 18  num_referrals                     7043 non-null   int64  \n",
      " 19  tenure_months                     7043 non-null   int64  \n",
      " 20  offer                             7043 non-null   object \n",
      " 21  phone_service                     7043 non-null   object \n",
      " 22  avg_monthly_long_distance_charge  7043 non-null   float64\n",
      " 23  multiple_lines                    7043 non-null   object \n",
      " 24  internet_service                  7043 non-null   object \n",
      " 25  internet_type                     7043 non-null   object \n",
      " 26  avg_monthly_gb_download           7043 non-null   float64\n",
      " 27  online_security                   7043 non-null   object \n",
      " 28  online_backup                     7043 non-null   object \n",
      " 29  device_protection                 7043 non-null   object \n",
      " 30  premium_tech_support              7043 non-null   object \n",
      " 31  streaming_tv                      7043 non-null   object \n",
      " 32  streaming_movies                  7043 non-null   object \n",
      " 33  streaming_music                   7043 non-null   object \n",
      " 34  unlimited_data                    7043 non-null   object \n",
      " 35  contract                          7043 non-null   object \n",
      " 36  paperless_billing                 7043 non-null   object \n",
      " 37  payment_method                    7043 non-null   object \n",
      " 38  monthly_charge                    7043 non-null   float64\n",
      " 39  total_charges                     7043 non-null   float64\n",
      " 40  total_refunds                     7043 non-null   float64\n",
      " 41  total_extra_data_charges          7043 non-null   float64\n",
      " 42  total_long_distance_charges       7043 non-null   float64\n",
      " 43  total_revenue                     7043 non-null   float64\n",
      " 44  status_id                         7043 non-null   object \n",
      " 45  satisfaction_score                7043 non-null   int64  \n",
      " 46  customer_status                   7043 non-null   object \n",
      " 47  churn_label                       7043 non-null   object \n",
      " 48  churn_value                       7043 non-null   int64  \n",
      " 49  churn_score                       7043 non-null   int64  \n",
      " 50  cltv                              7043 non-null   int64  \n",
      " 51  churn_category                    7043 non-null   object \n",
      " 52  churn_reason                      7043 non-null   object \n",
      "dtypes: float64(10), int64(8), object(35)\n",
      "memory usage: 2.8+ MB\n"
     ]
    }
   ],
   "source": [
    "# Ensure merged on columns are strings\n",
    "demographics_copy['customer_id'] = demographics_copy['customer_id'].astype(str)\n",
    "location_copy['customer_id'] = location_copy['customer_id'].astype(str)\n",
    "\n",
    "# Merge on 'customer_id'\n",
    "data = pd.merge(\n",
    "    demographics_copy,\n",
    "    location_copy,\n",
    "    on='customer_id',\n",
    "    how='outer'\n",
    ")\n",
    "\n",
    "data['customer_id'] = data['customer_id'].astype(str)\n",
    "services_copy['customer_id'] = services_copy['customer_id'].astype(str)\n",
    "\n",
    "# Merge on 'customer_id'\n",
    "data = pd.merge(\n",
    "    data,\n",
    "    services_copy,\n",
    "    on='customer_id',\n",
    "    how='outer'\n",
    ")\n",
    "\n",
    "status_copy['customer_id'] = status_copy['customer_id'].astype(str)\n",
    "\n",
    "# Merge on 'customer_id'\n",
    "data = pd.merge(\n",
    "    data,\n",
    "    status_copy,\n",
    "    on='customer_id',\n",
    "    how='outer'\n",
    ")\n",
    "\n",
    "data.info()"
   ]
  },
  {
   "cell_type": "code",
   "execution_count": 226,
   "id": "6ecf20e4",
   "metadata": {},
   "outputs": [
    {
     "data": {
      "text/plain": [
       "Index(['customer_id', 'gender', 'age', 'under_30', 'senior_citizen', 'married',\n",
       "       'dependents', 'num_dependents', 'location_id', 'country', 'state',\n",
       "       'city', 'zip_code', 'lat_long', 'latitude', 'longitude', 'service_id',\n",
       "       'referred_friend', 'num_referrals', 'tenure_months', 'offer',\n",
       "       'phone_service', 'avg_monthly_long_distance_charge', 'multiple_lines',\n",
       "       'internet_service', 'internet_type', 'avg_monthly_gb_download',\n",
       "       'online_security', 'online_backup', 'device_protection',\n",
       "       'premium_tech_support', 'streaming_tv', 'streaming_movies',\n",
       "       'streaming_music', 'unlimited_data', 'contract', 'paperless_billing',\n",
       "       'payment_method', 'monthly_charge', 'total_charges', 'total_refunds',\n",
       "       'total_extra_data_charges', 'total_long_distance_charges',\n",
       "       'total_revenue', 'status_id', 'satisfaction_score', 'customer_status',\n",
       "       'churn_label', 'churn_value', 'churn_score', 'cltv', 'churn_category',\n",
       "       'churn_reason'],\n",
       "      dtype='object')"
      ]
     },
     "execution_count": 226,
     "metadata": {},
     "output_type": "execute_result"
    }
   ],
   "source": [
    "data.columns"
   ]
  },
  {
   "cell_type": "markdown",
   "id": "a0ef61a2",
   "metadata": {},
   "source": [
    "Now we have a null-free dataset of the demographics, location, services, and status datasets after cleaning"
   ]
  },
  {
   "cell_type": "markdown",
   "id": "e6561488",
   "metadata": {},
   "source": [
    "## Preprocessing"
   ]
  },
  {
   "cell_type": "code",
   "execution_count": 227,
   "id": "24b30e68",
   "metadata": {},
   "outputs": [
    {
     "name": "stdout",
     "output_type": "stream",
     "text": [
      "<class 'pandas.core.frame.DataFrame'>\n",
      "RangeIndex: 7043 entries, 0 to 7042\n",
      "Data columns (total 53 columns):\n",
      " #   Column                            Non-Null Count  Dtype  \n",
      "---  ------                            --------------  -----  \n",
      " 0   customer_id                       7043 non-null   object \n",
      " 1   gender                            7043 non-null   object \n",
      " 2   age                               7043 non-null   int64  \n",
      " 3   under_30                          7043 non-null   object \n",
      " 4   senior_citizen                    7043 non-null   object \n",
      " 5   married                           7043 non-null   object \n",
      " 6   dependents                        7043 non-null   object \n",
      " 7   num_dependents                    7043 non-null   int64  \n",
      " 8   location_id                       7043 non-null   object \n",
      " 9   country                           7043 non-null   object \n",
      " 10  state                             7043 non-null   object \n",
      " 11  city                              7043 non-null   object \n",
      " 12  zip_code                          7043 non-null   object \n",
      " 13  lat_long                          7043 non-null   object \n",
      " 14  latitude                          7043 non-null   float64\n",
      " 15  longitude                         7043 non-null   float64\n",
      " 16  service_id                        7043 non-null   object \n",
      " 17  referred_friend                   7043 non-null   object \n",
      " 18  num_referrals                     7043 non-null   int64  \n",
      " 19  tenure_months                     7043 non-null   int64  \n",
      " 20  offer                             7043 non-null   object \n",
      " 21  phone_service                     7043 non-null   object \n",
      " 22  avg_monthly_long_distance_charge  7043 non-null   float64\n",
      " 23  multiple_lines                    7043 non-null   object \n",
      " 24  internet_service                  7043 non-null   object \n",
      " 25  internet_type                     7043 non-null   object \n",
      " 26  avg_monthly_gb_download           7043 non-null   float64\n",
      " 27  online_security                   7043 non-null   object \n",
      " 28  online_backup                     7043 non-null   object \n",
      " 29  device_protection                 7043 non-null   object \n",
      " 30  premium_tech_support              7043 non-null   object \n",
      " 31  streaming_tv                      7043 non-null   object \n",
      " 32  streaming_movies                  7043 non-null   object \n",
      " 33  streaming_music                   7043 non-null   object \n",
      " 34  unlimited_data                    7043 non-null   object \n",
      " 35  contract                          7043 non-null   object \n",
      " 36  paperless_billing                 7043 non-null   object \n",
      " 37  payment_method                    7043 non-null   object \n",
      " 38  monthly_charge                    7043 non-null   float64\n",
      " 39  total_charges                     7043 non-null   float64\n",
      " 40  total_refunds                     7043 non-null   float64\n",
      " 41  total_extra_data_charges          7043 non-null   float64\n",
      " 42  total_long_distance_charges       7043 non-null   float64\n",
      " 43  total_revenue                     7043 non-null   float64\n",
      " 44  status_id                         7043 non-null   object \n",
      " 45  satisfaction_score                7043 non-null   int64  \n",
      " 46  customer_status                   7043 non-null   object \n",
      " 47  churn_label                       7043 non-null   object \n",
      " 48  churn_value                       7043 non-null   int64  \n",
      " 49  churn_score                       7043 non-null   int64  \n",
      " 50  cltv                              7043 non-null   int64  \n",
      " 51  churn_category                    7043 non-null   object \n",
      " 52  churn_reason                      7043 non-null   object \n",
      "dtypes: float64(10), int64(8), object(35)\n",
      "memory usage: 2.8+ MB\n"
     ]
    }
   ],
   "source": [
    "# Remove duplicates\n",
    "data.drop_duplicates(inplace=True)\n",
    "data.info()"
   ]
  },
  {
   "cell_type": "markdown",
   "id": "ea0d1d61",
   "metadata": {},
   "source": [
    "No duplicates, number of rows maintained"
   ]
  },
  {
   "cell_type": "markdown",
   "id": "9a26a6de",
   "metadata": {},
   "source": [
    "### Outlier Detection\n",
    "\n",
    "Target variable: 'churn_value'  "
   ]
  },
  {
   "cell_type": "code",
   "execution_count": 242,
   "id": "ecfbe8cc",
   "metadata": {},
   "outputs": [
    {
     "data": {
      "text/plain": [
       "<Axes: ylabel='Churn Value Distribution:'>"
      ]
     },
     "execution_count": 242,
     "metadata": {},
     "output_type": "execute_result"
    },
    {
     "data": {
      "image/png": "[encoded data removed]",
      "text/plain": [
       "<Figure size 640x480 with 1 Axes>"
      ]
     },
     "metadata": {},
     "output_type": "display_data"
    }
   ],
   "source": [
    "data['churn_label'].value_counts().plot(kind='pie', autopct='%1.1f%%', label='Churn Value Distribution:')"
   ]
  },
  {
   "cell_type": "markdown",
   "id": "54906dd7",
   "metadata": {},
   "source": [
    "Slight class imbalance favoring customers who have not churned. It will be more significant to identify a customer who does churn or is more likely to in the future."
   ]
  },
  {
   "cell_type": "code",
   "execution_count": 257,
   "id": "704b3e0d",
   "metadata": {},
   "outputs": [
    {
     "data": {
      "text/plain": [
       "<Axes: xlabel='gender', ylabel='count'>"
      ]
     },
     "execution_count": 257,
     "metadata": {},
     "output_type": "execute_result"
    },
    {
     "data": {
      "image/png": "[encoded data removed]",
      "text/plain": [
       "<Figure size 640x480 with 1 Axes>"
      ]
     },
     "metadata": {},
     "output_type": "display_data"
    }
   ],
   "source": [
    "sns.countplot(data=data, x='gender', hue='churn_label')"
   ]
  },
  {
   "cell_type": "markdown",
   "id": "fbfc44f4",
   "metadata": {},
   "source": [
    "Gender appears to have little influence on churn "
   ]
  },
  {
   "cell_type": "code",
   "execution_count": 255,
   "id": "571654a1",
   "metadata": {},
   "outputs": [
    {
     "data": {
      "text/plain": [
       "<Axes: ylabel='Frequency'>"
      ]
     },
     "execution_count": 255,
     "metadata": {},
     "output_type": "execute_result"
    },
    {
     "data": {
      "image/png": "[encoded data removed]",
      "text/plain": [
       "<Figure size 640x480 with 1 Axes>"
      ]
     },
     "metadata": {},
     "output_type": "display_data"
    }
   ],
   "source": [
    "data['age'].plot(kind='hist')"
   ]
  },
  {
   "cell_type": "code",
   "execution_count": 246,
   "id": "813994b4",
   "metadata": {},
   "outputs": [
    {
     "data": {
      "text/plain": [
       "<Axes: xlabel='monthly_charge', ylabel='Count'>"
      ]
     },
     "execution_count": 246,
     "metadata": {},
     "output_type": "execute_result"
    },
    {
     "data": {
      "image/png": "[encoded data removed]",
      "text/plain": [
       "<Figure size 640x480 with 1 Axes>"
      ]
     },
     "metadata": {},
     "output_type": "display_data"
    }
   ],
   "source": [
    "sns.histplot(data=data, x='monthly_charge', hue='churn_label', kde=True)"
   ]
  }
 ],
 "metadata": {
  "kernelspec": {
   "display_name": "venv",
   "language": "python",
   "name": "python3"
  },
  "language_info": {
   "codemirror_mode": {
    "name": "ipython",
    "version": 3
   },
   "file_extension": ".py",
   "mimetype": "text/x-python",
   "name": "python",
   "nbconvert_exporter": "python",
   "pygments_lexer": "ipython3",
   "version": "3.13.7"
  }
 },
 "nbformat": 4,
 "nbformat_minor": 5
}
